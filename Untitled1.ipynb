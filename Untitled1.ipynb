{
 "cells": [
  {
   "cell_type": "code",
   "execution_count": 1,
   "metadata": {},
   "outputs": [],
   "source": [
    "import pandas as pd"
   ]
  },
  {
   "cell_type": "code",
   "execution_count": 12,
   "metadata": {},
   "outputs": [
    {
     "name": "stderr",
     "output_type": "stream",
     "text": [
      "/Applications/anaconda3/envs/learn-env/lib/python3.7/site-packages/IPython/core/interactiveshell.py:3058: DtypeWarning: Columns (0,2,5,10) have mixed types. Specify dtype option on import or set low_memory=False.\n",
      "  interactivity=interactivity, compiler=compiler, result=result)\n"
     ]
    }
   ],
   "source": [
    "data= pd.read_csv('the-movies-dataset/movies_metadata.csv',encoding='latin')"
   ]
  },
  {
   "cell_type": "code",
   "execution_count": 14,
   "metadata": {},
   "outputs": [
    {
     "data": {
      "text/plain": [
       "Index(['adult', 'belongs_to_collection', 'budget', 'genres', 'homepage', 'id',\n",
       "       'imdb_id', 'original_language', 'original_title', 'overview',\n",
       "       'popularity', 'poster_path', 'production_companies',\n",
       "       'production_countries', 'release_date', 'revenue', 'runtime',\n",
       "       'spoken_languages', 'status', 'tagline', 'title', 'video',\n",
       "       'vote_average', 'vote_count'],\n",
       "      dtype='object')"
      ]
     },
     "execution_count": 14,
     "metadata": {},
     "output_type": "execute_result"
    }
   ],
   "source": [
    "data.columns"
   ]
  },
  {
   "cell_type": "code",
   "execution_count": 26,
   "metadata": {},
   "outputs": [],
   "source": [
    "meta_data = data.drop(['adult','overview','poster_path','runtime','spoken_languages','status','tagline','video'],axis=1)"
   ]
  },
  {
   "cell_type": "code",
   "execution_count": 27,
   "metadata": {},
   "outputs": [
    {
     "data": {
      "text/html": [
       "<div>\n",
       "<style scoped>\n",
       "    .dataframe tbody tr th:only-of-type {\n",
       "        vertical-align: middle;\n",
       "    }\n",
       "\n",
       "    .dataframe tbody tr th {\n",
       "        vertical-align: top;\n",
       "    }\n",
       "\n",
       "    .dataframe thead th {\n",
       "        text-align: right;\n",
       "    }\n",
       "</style>\n",
       "<table border=\"1\" class=\"dataframe\">\n",
       "  <thead>\n",
       "    <tr style=\"text-align: right;\">\n",
       "      <th></th>\n",
       "      <th>belongs_to_collection</th>\n",
       "      <th>budget</th>\n",
       "      <th>genres</th>\n",
       "      <th>homepage</th>\n",
       "      <th>id</th>\n",
       "      <th>imdb_id</th>\n",
       "      <th>original_language</th>\n",
       "      <th>original_title</th>\n",
       "      <th>popularity</th>\n",
       "      <th>production_companies</th>\n",
       "      <th>production_countries</th>\n",
       "      <th>release_date</th>\n",
       "      <th>revenue</th>\n",
       "      <th>title</th>\n",
       "      <th>vote_average</th>\n",
       "      <th>vote_count</th>\n",
       "    </tr>\n",
       "  </thead>\n",
       "  <tbody>\n",
       "    <tr>\n",
       "      <th>0</th>\n",
       "      <td>{'id': 119050, 'name': 'Grumpy Old Men Collect...</td>\n",
       "      <td>0</td>\n",
       "      <td>[{'id': 10749, 'name': 'Romance'}, {'id': 35, ...</td>\n",
       "      <td>NaN</td>\n",
       "      <td>15602</td>\n",
       "      <td>tt0113228</td>\n",
       "      <td>en</td>\n",
       "      <td>Grumpier Old Men</td>\n",
       "      <td>11.7129</td>\n",
       "      <td>[{'name': 'Warner Bros.', 'id': 6194}, {'name'...</td>\n",
       "      <td>[{'iso_3166_1': 'US', 'name': 'United States o...</td>\n",
       "      <td>12/22/95</td>\n",
       "      <td>0.0</td>\n",
       "      <td>Grumpier Old Men</td>\n",
       "      <td>6.5</td>\n",
       "      <td>92.0</td>\n",
       "    </tr>\n",
       "    <tr>\n",
       "      <th>1</th>\n",
       "      <td>{'id': 96871, 'name': 'Father of the Bride Col...</td>\n",
       "      <td>0</td>\n",
       "      <td>[{'id': 35, 'name': 'Comedy'}]</td>\n",
       "      <td>NaN</td>\n",
       "      <td>11862</td>\n",
       "      <td>tt0113041</td>\n",
       "      <td>en</td>\n",
       "      <td>Father of the Bride Part II</td>\n",
       "      <td>8.38752</td>\n",
       "      <td>[{'name': 'Sandollar Productions', 'id': 5842}...</td>\n",
       "      <td>[{'iso_3166_1': 'US', 'name': 'United States o...</td>\n",
       "      <td>2/10/95</td>\n",
       "      <td>76578911.0</td>\n",
       "      <td>Father of the Bride Part II</td>\n",
       "      <td>5.7</td>\n",
       "      <td>173.0</td>\n",
       "    </tr>\n",
       "    <tr>\n",
       "      <th>2</th>\n",
       "      <td>NaN</td>\n",
       "      <td>0</td>\n",
       "      <td>[{'id': 28, 'name': 'Action'}, {'id': 12, 'nam...</td>\n",
       "      <td>NaN</td>\n",
       "      <td>45325</td>\n",
       "      <td>tt0112302</td>\n",
       "      <td>en</td>\n",
       "      <td>Tom and Huck</td>\n",
       "      <td>2.56116</td>\n",
       "      <td>[{'name': 'Walt Disney Pictures', 'id': 2}]</td>\n",
       "      <td>[{'iso_3166_1': 'US', 'name': 'United States o...</td>\n",
       "      <td>12/22/95</td>\n",
       "      <td>0.0</td>\n",
       "      <td>Tom and Huck</td>\n",
       "      <td>5.4</td>\n",
       "      <td>45.0</td>\n",
       "    </tr>\n",
       "    <tr>\n",
       "      <th>3</th>\n",
       "      <td>NaN</td>\n",
       "      <td>0</td>\n",
       "      <td>[{'id': 35, 'name': 'Comedy'}, {'id': 27, 'nam...</td>\n",
       "      <td>NaN</td>\n",
       "      <td>12110</td>\n",
       "      <td>tt0112896</td>\n",
       "      <td>en</td>\n",
       "      <td>Dracula: Dead and Loving It</td>\n",
       "      <td>5.43033</td>\n",
       "      <td>[{'name': 'Columbia Pictures', 'id': 5}, {'nam...</td>\n",
       "      <td>[{'iso_3166_1': 'FR', 'name': 'France'}, {'iso...</td>\n",
       "      <td>12/22/95</td>\n",
       "      <td>0.0</td>\n",
       "      <td>Dracula: Dead and Loving It</td>\n",
       "      <td>5.7</td>\n",
       "      <td>210.0</td>\n",
       "    </tr>\n",
       "    <tr>\n",
       "      <th>4</th>\n",
       "      <td>{'id': 117693, 'name': 'Balto Collection', 'po...</td>\n",
       "      <td>0</td>\n",
       "      <td>[{'id': 10751, 'name': 'Family'}, {'id': 16, '...</td>\n",
       "      <td>NaN</td>\n",
       "      <td>21032</td>\n",
       "      <td>tt0112453</td>\n",
       "      <td>en</td>\n",
       "      <td>Balto</td>\n",
       "      <td>12.1407</td>\n",
       "      <td>[{'name': 'Universal Pictures', 'id': 33}, {'n...</td>\n",
       "      <td>[{'iso_3166_1': 'US', 'name': 'United States o...</td>\n",
       "      <td>12/22/95</td>\n",
       "      <td>11348324.0</td>\n",
       "      <td>Balto</td>\n",
       "      <td>7.1</td>\n",
       "      <td>423.0</td>\n",
       "    </tr>\n",
       "  </tbody>\n",
       "</table>\n",
       "</div>"
      ],
      "text/plain": [
       "                               belongs_to_collection budget  \\\n",
       "0  {'id': 119050, 'name': 'Grumpy Old Men Collect...      0   \n",
       "1  {'id': 96871, 'name': 'Father of the Bride Col...      0   \n",
       "2                                                NaN      0   \n",
       "3                                                NaN      0   \n",
       "4  {'id': 117693, 'name': 'Balto Collection', 'po...      0   \n",
       "\n",
       "                                              genres homepage     id  \\\n",
       "0  [{'id': 10749, 'name': 'Romance'}, {'id': 35, ...      NaN  15602   \n",
       "1                     [{'id': 35, 'name': 'Comedy'}]      NaN  11862   \n",
       "2  [{'id': 28, 'name': 'Action'}, {'id': 12, 'nam...      NaN  45325   \n",
       "3  [{'id': 35, 'name': 'Comedy'}, {'id': 27, 'nam...      NaN  12110   \n",
       "4  [{'id': 10751, 'name': 'Family'}, {'id': 16, '...      NaN  21032   \n",
       "\n",
       "     imdb_id original_language               original_title popularity  \\\n",
       "0  tt0113228                en             Grumpier Old Men    11.7129   \n",
       "1  tt0113041                en  Father of the Bride Part II    8.38752   \n",
       "2  tt0112302                en                 Tom and Huck    2.56116   \n",
       "3  tt0112896                en  Dracula: Dead and Loving It    5.43033   \n",
       "4  tt0112453                en                        Balto    12.1407   \n",
       "\n",
       "                                production_companies  \\\n",
       "0  [{'name': 'Warner Bros.', 'id': 6194}, {'name'...   \n",
       "1  [{'name': 'Sandollar Productions', 'id': 5842}...   \n",
       "2        [{'name': 'Walt Disney Pictures', 'id': 2}]   \n",
       "3  [{'name': 'Columbia Pictures', 'id': 5}, {'nam...   \n",
       "4  [{'name': 'Universal Pictures', 'id': 33}, {'n...   \n",
       "\n",
       "                                production_countries release_date     revenue  \\\n",
       "0  [{'iso_3166_1': 'US', 'name': 'United States o...     12/22/95         0.0   \n",
       "1  [{'iso_3166_1': 'US', 'name': 'United States o...      2/10/95  76578911.0   \n",
       "2  [{'iso_3166_1': 'US', 'name': 'United States o...     12/22/95         0.0   \n",
       "3  [{'iso_3166_1': 'FR', 'name': 'France'}, {'iso...     12/22/95         0.0   \n",
       "4  [{'iso_3166_1': 'US', 'name': 'United States o...     12/22/95  11348324.0   \n",
       "\n",
       "                         title  vote_average  vote_count  \n",
       "0             Grumpier Old Men           6.5        92.0  \n",
       "1  Father of the Bride Part II           5.7       173.0  \n",
       "2                 Tom and Huck           5.4        45.0  \n",
       "3  Dracula: Dead and Loving It           5.7       210.0  \n",
       "4                        Balto           7.1       423.0  "
      ]
     },
     "execution_count": 27,
     "metadata": {},
     "output_type": "execute_result"
    }
   ],
   "source": [
    "meta_data.head()"
   ]
  },
  {
   "cell_type": "code",
   "execution_count": 33,
   "metadata": {},
   "outputs": [
    {
     "data": {
      "text/plain": [
       "0                                       0\n",
       "1                                       0\n",
       "2                                       0\n",
       "3                                       0\n",
       "4                                       0\n",
       "                       ...               \n",
       "45461                           300000000\n",
       "45462                           380000000\n",
       "45463    /ff9qCepilowshEtG2GYWwzt2bs4.jpg\n",
       "45464    /zaSf5OG7V8X8gqFvly88zDdRm46.jpg\n",
       "45465    /zV8bHuSL6WXoD6FWogP9j4x80bL.jpg\n",
       "Name: budget, Length: 45466, dtype: object"
      ]
     },
     "execution_count": 33,
     "metadata": {},
     "output_type": "execute_result"
    }
   ],
   "source": [
    "met"
   ]
  },
  {
   "cell_type": "code",
   "execution_count": null,
   "metadata": {},
   "outputs": [],
   "source": []
  }
 ],
 "metadata": {
  "kernelspec": {
   "display_name": "Python 3",
   "language": "python",
   "name": "python3"
  },
  "language_info": {
   "codemirror_mode": {
    "name": "ipython",
    "version": 3
   },
   "file_extension": ".py",
   "mimetype": "text/x-python",
   "name": "python",
   "nbconvert_exporter": "python",
   "pygments_lexer": "ipython3",
   "version": "3.7.3"
  }
 },
 "nbformat": 4,
 "nbformat_minor": 4
}
